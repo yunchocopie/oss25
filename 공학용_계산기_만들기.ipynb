{
  "nbformat": 4,
  "nbformat_minor": 0,
  "metadata": {
    "colab": {
      "provenance": [],
      "toc_visible": true,
      "authorship_tag": "ABX9TyOkCKaMDLNHyo6r3ixTbm9z",
      "include_colab_link": true
    },
    "kernelspec": {
      "name": "python3",
      "display_name": "Python 3"
    },
    "language_info": {
      "name": "python"
    }
  },
  "cells": [
    {
      "cell_type": "markdown",
      "metadata": {
        "id": "view-in-github",
        "colab_type": "text"
      },
      "source": [
        "<a href=\"https://colab.research.google.com/github/yunchocopie/oss25/blob/main/%08%EA%B3%B5%ED%95%99%EC%9A%A9_%EA%B3%84%EC%82%B0%EA%B8%B0_%EB%A7%8C%EB%93%A4%EA%B8%B0.ipynb\" target=\"_parent\"><img src=\"https://colab.research.google.com/assets/colab-badge.svg\" alt=\"Open In Colab\"/></a>"
      ]
    },
    {
      "cell_type": "markdown",
      "source": [
        "# 공학용 계산기 개발의 필요성\n",
        "본 프로젝트는 많은 학생들이 **공학용 계산기**를 구매해야 하는 문제를 해결하기 위해 만들었습니다. 예를 들면, $x^6$을 개발하는 게 어렵습니다."
      ],
      "metadata": {
        "id": "arOP1jArE6s0"
      }
    },
    {
      "cell_type": "markdown",
      "source": [
        "## 초기값 입력\n",
        "계산을 원하는 값을 설정해주세요."
      ],
      "metadata": {
        "id": "I96W3aIuI08e"
      }
    },
    {
      "cell_type": "code",
      "source": [
        "slider_value = 142  # @param {type: \"slider\", min: 100, max: 200}\n",
        "x = 300  # @param {type: \"number\"}\n",
        "y = 102\n",
        "date = '2010-11-05'  # @param {type: \"date\"}\n",
        "pick_me = \"monday\"  # @param ['monday', 'tuesday', 'wednesday', 'thursday']\n",
        "select_or_input = \"apples\" # @param [\"apples\", \"bananas\", \"oranges\"] {allow-input: true}\n",
        "# @markdown ---"
      ],
      "metadata": {
        "id": "XY7y6JQwJPdU"
      },
      "execution_count": 2,
      "outputs": []
    },
    {
      "cell_type": "markdown",
      "source": [
        "## 지수값 구하기"
      ],
      "metadata": {
        "id": "RX7T3TzHFmwb"
      }
    },
    {
      "cell_type": "code",
      "execution_count": 3,
      "metadata": {
        "colab": {
          "base_uri": "https://localhost:8080/"
        },
        "id": "PtdO5ULlBqC1",
        "outputId": "6da3553e-2113-4ec9-b029-ecb6d6ba5ec8"
      },
      "outputs": [
        {
          "output_type": "stream",
          "name": "stdout",
          "text": [
            "너무 큰 수를 입력하셨습니다.\n"
          ]
        }
      ],
      "source": [
        "x6 = x*x*x*x*x*x\n",
        "x6\n",
        "\n",
        "if x6 > 2000000:\n",
        "  print(\"너무 큰 수를 입력하셨습니다.\")"
      ]
    },
    {
      "cell_type": "code",
      "source": [
        "x6"
      ],
      "metadata": {
        "colab": {
          "base_uri": "https://localhost:8080/"
        },
        "id": "pXXLwxmBJ0KB",
        "outputId": "442e6a42-0897-4983-9b7c-4c5467a4b97e"
      },
      "execution_count": 4,
      "outputs": [
        {
          "output_type": "execute_result",
          "data": {
            "text/plain": [
              "729000000000000"
            ]
          },
          "metadata": {},
          "execution_count": 4
        }
      ]
    }
  ]
}